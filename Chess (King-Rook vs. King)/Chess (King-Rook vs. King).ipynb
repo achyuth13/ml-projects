{
 "cells": [
  {
   "cell_type": "markdown",
   "metadata": {},
   "source": [
    "## Chess (King-Rook vs. King) Data Set"
   ]
  },
  {
   "cell_type": "code",
   "execution_count": 1,
   "metadata": {},
   "outputs": [],
   "source": [
    "import pandas as pd\n",
    "import numpy as np"
   ]
  },
  {
   "cell_type": "code",
   "execution_count": 2,
   "metadata": {},
   "outputs": [],
   "source": [
    "df = pd.read_csv('./krkopt.data', header=None)\n",
    "df.columns = ['wkf', 'wkr', 'wrf', 'wrr', 'bkf', 'bkr', 'class']"
   ]
  },
  {
   "cell_type": "code",
   "execution_count": 3,
   "metadata": {},
   "outputs": [
    {
     "data": {
      "text/plain": [
       "(28056, 7)"
      ]
     },
     "execution_count": 3,
     "metadata": {},
     "output_type": "execute_result"
    }
   ],
   "source": [
    "df.shape"
   ]
  },
  {
   "cell_type": "code",
   "execution_count": 4,
   "metadata": {},
   "outputs": [
    {
     "data": {
      "text/html": [
       "<div>\n",
       "<style scoped>\n",
       "    .dataframe tbody tr th:only-of-type {\n",
       "        vertical-align: middle;\n",
       "    }\n",
       "\n",
       "    .dataframe tbody tr th {\n",
       "        vertical-align: top;\n",
       "    }\n",
       "\n",
       "    .dataframe thead th {\n",
       "        text-align: right;\n",
       "    }\n",
       "</style>\n",
       "<table border=\"1\" class=\"dataframe\">\n",
       "  <thead>\n",
       "    <tr style=\"text-align: right;\">\n",
       "      <th></th>\n",
       "      <th>wkf</th>\n",
       "      <th>wkr</th>\n",
       "      <th>wrf</th>\n",
       "      <th>wrr</th>\n",
       "      <th>bkf</th>\n",
       "      <th>bkr</th>\n",
       "      <th>class</th>\n",
       "    </tr>\n",
       "  </thead>\n",
       "  <tbody>\n",
       "    <tr>\n",
       "      <th>0</th>\n",
       "      <td>a</td>\n",
       "      <td>1</td>\n",
       "      <td>b</td>\n",
       "      <td>3</td>\n",
       "      <td>c</td>\n",
       "      <td>2</td>\n",
       "      <td>draw</td>\n",
       "    </tr>\n",
       "    <tr>\n",
       "      <th>1</th>\n",
       "      <td>a</td>\n",
       "      <td>1</td>\n",
       "      <td>c</td>\n",
       "      <td>1</td>\n",
       "      <td>c</td>\n",
       "      <td>2</td>\n",
       "      <td>draw</td>\n",
       "    </tr>\n",
       "    <tr>\n",
       "      <th>2</th>\n",
       "      <td>a</td>\n",
       "      <td>1</td>\n",
       "      <td>c</td>\n",
       "      <td>1</td>\n",
       "      <td>d</td>\n",
       "      <td>1</td>\n",
       "      <td>draw</td>\n",
       "    </tr>\n",
       "    <tr>\n",
       "      <th>3</th>\n",
       "      <td>a</td>\n",
       "      <td>1</td>\n",
       "      <td>c</td>\n",
       "      <td>1</td>\n",
       "      <td>d</td>\n",
       "      <td>2</td>\n",
       "      <td>draw</td>\n",
       "    </tr>\n",
       "    <tr>\n",
       "      <th>4</th>\n",
       "      <td>a</td>\n",
       "      <td>1</td>\n",
       "      <td>c</td>\n",
       "      <td>2</td>\n",
       "      <td>c</td>\n",
       "      <td>1</td>\n",
       "      <td>draw</td>\n",
       "    </tr>\n",
       "  </tbody>\n",
       "</table>\n",
       "</div>"
      ],
      "text/plain": [
       "  wkf  wkr wrf  wrr bkf  bkr class\n",
       "0   a    1   b    3   c    2  draw\n",
       "1   a    1   c    1   c    2  draw\n",
       "2   a    1   c    1   d    1  draw\n",
       "3   a    1   c    1   d    2  draw\n",
       "4   a    1   c    2   c    1  draw"
      ]
     },
     "execution_count": 4,
     "metadata": {},
     "output_type": "execute_result"
    }
   ],
   "source": [
    "df.head()"
   ]
  },
  {
   "cell_type": "code",
   "execution_count": 5,
   "metadata": {},
   "outputs": [
    {
     "data": {
      "text/plain": [
       "array(['draw', 'zero', 'one', 'two', 'three', 'four', 'five', 'six',\n",
       "       'seven', 'eight', 'nine', 'ten', 'eleven', 'twelve', 'thirteen',\n",
       "       'fourteen', 'fifteen', 'sixteen'], dtype=object)"
      ]
     },
     "execution_count": 5,
     "metadata": {},
     "output_type": "execute_result"
    }
   ],
   "source": [
    "df['class'].unique()"
   ]
  },
  {
   "cell_type": "code",
   "execution_count": 6,
   "metadata": {},
   "outputs": [
    {
     "name": "stdout",
     "output_type": "stream",
     "text": [
      "<class 'pandas.core.frame.DataFrame'>\n",
      "RangeIndex: 28056 entries, 0 to 28055\n",
      "Data columns (total 7 columns):\n",
      "wkf      28056 non-null object\n",
      "wkr      28056 non-null int64\n",
      "wrf      28056 non-null object\n",
      "wrr      28056 non-null int64\n",
      "bkf      28056 non-null object\n",
      "bkr      28056 non-null int64\n",
      "class    28056 non-null object\n",
      "dtypes: int64(3), object(4)\n",
      "memory usage: 1.5+ MB\n"
     ]
    }
   ],
   "source": [
    "df.info()"
   ]
  },
  {
   "cell_type": "code",
   "execution_count": 7,
   "metadata": {},
   "outputs": [
    {
     "data": {
      "text/plain": [
       "wkf      0\n",
       "wkr      0\n",
       "wrf      0\n",
       "wrr      0\n",
       "bkf      0\n",
       "bkr      0\n",
       "class    0\n",
       "dtype: int64"
      ]
     },
     "execution_count": 7,
     "metadata": {},
     "output_type": "execute_result"
    }
   ],
   "source": [
    "df.isnull().sum()"
   ]
  },
  {
   "cell_type": "code",
   "execution_count": 8,
   "metadata": {},
   "outputs": [
    {
     "data": {
      "text/plain": [
       "d    12136\n",
       "c     8726\n",
       "b     5316\n",
       "a     1878\n",
       "Name: wkf, dtype: int64"
      ]
     },
     "execution_count": 8,
     "metadata": {},
     "output_type": "execute_result"
    }
   ],
   "source": [
    "df['wkf'].value_counts()"
   ]
  },
  {
   "cell_type": "code",
   "execution_count": 9,
   "metadata": {},
   "outputs": [
    {
     "data": {
      "text/plain": [
       "1    12666\n",
       "2     8540\n",
       "3     5130\n",
       "4     1720\n",
       "Name: wkr, dtype: int64"
      ]
     },
     "execution_count": 9,
     "metadata": {},
     "output_type": "execute_result"
    }
   ],
   "source": [
    "df['wkr'].value_counts()"
   ]
  },
  {
   "cell_type": "code",
   "execution_count": 10,
   "metadata": {},
   "outputs": [
    {
     "data": {
      "text/plain": [
       "h    3616\n",
       "g    3599\n",
       "f    3582\n",
       "e    3576\n",
       "a    3468\n",
       "b    3438\n",
       "c    3409\n",
       "d    3368\n",
       "Name: wrf, dtype: int64"
      ]
     },
     "execution_count": 10,
     "metadata": {},
     "output_type": "execute_result"
    }
   ],
   "source": [
    "df['wrf'].value_counts()"
   ]
  },
  {
   "cell_type": "code",
   "execution_count": 11,
   "metadata": {},
   "outputs": [
    {
     "data": {
      "text/plain": [
       "5    3549\n",
       "4    3541\n",
       "6    3531\n",
       "7    3514\n",
       "3    3512\n",
       "8    3497\n",
       "2    3483\n",
       "1    3429\n",
       "Name: wrr, dtype: int64"
      ]
     },
     "execution_count": 11,
     "metadata": {},
     "output_type": "execute_result"
    }
   ],
   "source": [
    "df['wrr'].value_counts()"
   ]
  },
  {
   "cell_type": "code",
   "execution_count": 12,
   "metadata": {},
   "outputs": [
    {
     "data": {
      "text/plain": [
       "h    4848\n",
       "g    4600\n",
       "f    4352\n",
       "e    3450\n",
       "a    2920\n",
       "d    2796\n",
       "b    2700\n",
       "c    2390\n",
       "Name: bkf, dtype: int64"
      ]
     },
     "execution_count": 12,
     "metadata": {},
     "output_type": "execute_result"
    }
   ],
   "source": [
    "df['bkf'].value_counts()"
   ]
  },
  {
   "cell_type": "code",
   "execution_count": 13,
   "metadata": {},
   "outputs": [
    {
     "data": {
      "text/plain": [
       "5    3822\n",
       "4    3788\n",
       "1    3664\n",
       "6    3608\n",
       "3    3506\n",
       "7    3360\n",
       "2    3196\n",
       "8    3112\n",
       "Name: bkr, dtype: int64"
      ]
     },
     "execution_count": 13,
     "metadata": {},
     "output_type": "execute_result"
    }
   ],
   "source": [
    "df['bkr'].value_counts()"
   ]
  },
  {
   "cell_type": "code",
   "execution_count": 14,
   "metadata": {},
   "outputs": [
    {
     "data": {
      "text/plain": [
       "Index(['wkf', 'wkr', 'wrf', 'wrr', 'bkf', 'bkr', 'class'], dtype='object')"
      ]
     },
     "execution_count": 14,
     "metadata": {},
     "output_type": "execute_result"
    }
   ],
   "source": [
    "df.columns"
   ]
  },
  {
   "cell_type": "code",
   "execution_count": 15,
   "metadata": {},
   "outputs": [],
   "source": [
    "d_wkf = pd.get_dummies(df['wkf'], prefix='wkf')\n",
    "d_wkr = pd.get_dummies(df['wkr'], prefix='wkr')\n",
    "d_wrf = pd.get_dummies(df['wrf'], prefix='wrf')\n",
    "d_wrr = pd.get_dummies(df['wrr'], prefix='wrr')\n",
    "d_bkf = pd.get_dummies(df['bkf'], prefix='bkf')\n",
    "d_bkr = pd.get_dummies(df['bkr'], prefix='bkr')"
   ]
  },
  {
   "cell_type": "code",
   "execution_count": 16,
   "metadata": {},
   "outputs": [],
   "source": [
    "df_new = pd.concat([d_wkf, d_wkr, d_wrf, d_wrr, d_bkf, d_bkr, df['class']], axis=1)"
   ]
  },
  {
   "cell_type": "code",
   "execution_count": 17,
   "metadata": {},
   "outputs": [
    {
     "data": {
      "text/plain": [
       "(28056, 40)"
      ]
     },
     "execution_count": 17,
     "metadata": {},
     "output_type": "execute_result"
    }
   ],
   "source": [
    "df_new.iloc[:, :-1].shape"
   ]
  },
  {
   "cell_type": "code",
   "execution_count": 18,
   "metadata": {},
   "outputs": [
    {
     "data": {
      "text/plain": [
       "array(['draw', 'eight', 'eleven', 'fifteen', 'five', 'four', 'fourteen',\n",
       "       'nine', 'one', 'seven', 'six', 'sixteen', 'ten', 'thirteen',\n",
       "       'three', 'twelve', 'two', 'zero'], dtype=object)"
      ]
     },
     "execution_count": 18,
     "metadata": {},
     "output_type": "execute_result"
    }
   ],
   "source": [
    "from sklearn.preprocessing import LabelEncoder\n",
    "\n",
    "X = df_new.iloc[:, :-1]\n",
    "y = df_new['class']\n",
    "le = LabelEncoder()\n",
    "y = le.fit_transform(y)\n",
    "le.classes_"
   ]
  },
  {
   "cell_type": "code",
   "execution_count": 19,
   "metadata": {},
   "outputs": [
    {
     "data": {
      "text/plain": [
       "array([ 0,  1,  2,  3,  4,  5,  6,  7,  8,  9, 10, 11, 12, 13, 14, 15, 16,\n",
       "       17], dtype=int64)"
      ]
     },
     "execution_count": 19,
     "metadata": {},
     "output_type": "execute_result"
    }
   ],
   "source": [
    "le.transform(le.classes_)"
   ]
  },
  {
   "cell_type": "code",
   "execution_count": 20,
   "metadata": {},
   "outputs": [
    {
     "data": {
      "text/html": [
       "<div>\n",
       "<style scoped>\n",
       "    .dataframe tbody tr th:only-of-type {\n",
       "        vertical-align: middle;\n",
       "    }\n",
       "\n",
       "    .dataframe tbody tr th {\n",
       "        vertical-align: top;\n",
       "    }\n",
       "\n",
       "    .dataframe thead th {\n",
       "        text-align: right;\n",
       "    }\n",
       "</style>\n",
       "<table border=\"1\" class=\"dataframe\">\n",
       "  <thead>\n",
       "    <tr style=\"text-align: right;\">\n",
       "      <th></th>\n",
       "      <th>wkf_a</th>\n",
       "      <th>wkf_b</th>\n",
       "      <th>wkf_c</th>\n",
       "      <th>wkf_d</th>\n",
       "      <th>wkr_1</th>\n",
       "      <th>wkr_2</th>\n",
       "      <th>wkr_3</th>\n",
       "      <th>wkr_4</th>\n",
       "      <th>wrf_a</th>\n",
       "      <th>wrf_b</th>\n",
       "      <th>...</th>\n",
       "      <th>bkf_h</th>\n",
       "      <th>bkr_1</th>\n",
       "      <th>bkr_2</th>\n",
       "      <th>bkr_3</th>\n",
       "      <th>bkr_4</th>\n",
       "      <th>bkr_5</th>\n",
       "      <th>bkr_6</th>\n",
       "      <th>bkr_7</th>\n",
       "      <th>bkr_8</th>\n",
       "      <th>class</th>\n",
       "    </tr>\n",
       "  </thead>\n",
       "  <tbody>\n",
       "    <tr>\n",
       "      <th>0</th>\n",
       "      <td>1</td>\n",
       "      <td>0</td>\n",
       "      <td>0</td>\n",
       "      <td>0</td>\n",
       "      <td>1</td>\n",
       "      <td>0</td>\n",
       "      <td>0</td>\n",
       "      <td>0</td>\n",
       "      <td>0</td>\n",
       "      <td>1</td>\n",
       "      <td>...</td>\n",
       "      <td>0</td>\n",
       "      <td>0</td>\n",
       "      <td>1</td>\n",
       "      <td>0</td>\n",
       "      <td>0</td>\n",
       "      <td>0</td>\n",
       "      <td>0</td>\n",
       "      <td>0</td>\n",
       "      <td>0</td>\n",
       "      <td>draw</td>\n",
       "    </tr>\n",
       "    <tr>\n",
       "      <th>1</th>\n",
       "      <td>1</td>\n",
       "      <td>0</td>\n",
       "      <td>0</td>\n",
       "      <td>0</td>\n",
       "      <td>1</td>\n",
       "      <td>0</td>\n",
       "      <td>0</td>\n",
       "      <td>0</td>\n",
       "      <td>0</td>\n",
       "      <td>0</td>\n",
       "      <td>...</td>\n",
       "      <td>0</td>\n",
       "      <td>0</td>\n",
       "      <td>1</td>\n",
       "      <td>0</td>\n",
       "      <td>0</td>\n",
       "      <td>0</td>\n",
       "      <td>0</td>\n",
       "      <td>0</td>\n",
       "      <td>0</td>\n",
       "      <td>draw</td>\n",
       "    </tr>\n",
       "    <tr>\n",
       "      <th>2</th>\n",
       "      <td>1</td>\n",
       "      <td>0</td>\n",
       "      <td>0</td>\n",
       "      <td>0</td>\n",
       "      <td>1</td>\n",
       "      <td>0</td>\n",
       "      <td>0</td>\n",
       "      <td>0</td>\n",
       "      <td>0</td>\n",
       "      <td>0</td>\n",
       "      <td>...</td>\n",
       "      <td>0</td>\n",
       "      <td>1</td>\n",
       "      <td>0</td>\n",
       "      <td>0</td>\n",
       "      <td>0</td>\n",
       "      <td>0</td>\n",
       "      <td>0</td>\n",
       "      <td>0</td>\n",
       "      <td>0</td>\n",
       "      <td>draw</td>\n",
       "    </tr>\n",
       "    <tr>\n",
       "      <th>3</th>\n",
       "      <td>1</td>\n",
       "      <td>0</td>\n",
       "      <td>0</td>\n",
       "      <td>0</td>\n",
       "      <td>1</td>\n",
       "      <td>0</td>\n",
       "      <td>0</td>\n",
       "      <td>0</td>\n",
       "      <td>0</td>\n",
       "      <td>0</td>\n",
       "      <td>...</td>\n",
       "      <td>0</td>\n",
       "      <td>0</td>\n",
       "      <td>1</td>\n",
       "      <td>0</td>\n",
       "      <td>0</td>\n",
       "      <td>0</td>\n",
       "      <td>0</td>\n",
       "      <td>0</td>\n",
       "      <td>0</td>\n",
       "      <td>draw</td>\n",
       "    </tr>\n",
       "    <tr>\n",
       "      <th>4</th>\n",
       "      <td>1</td>\n",
       "      <td>0</td>\n",
       "      <td>0</td>\n",
       "      <td>0</td>\n",
       "      <td>1</td>\n",
       "      <td>0</td>\n",
       "      <td>0</td>\n",
       "      <td>0</td>\n",
       "      <td>0</td>\n",
       "      <td>0</td>\n",
       "      <td>...</td>\n",
       "      <td>0</td>\n",
       "      <td>1</td>\n",
       "      <td>0</td>\n",
       "      <td>0</td>\n",
       "      <td>0</td>\n",
       "      <td>0</td>\n",
       "      <td>0</td>\n",
       "      <td>0</td>\n",
       "      <td>0</td>\n",
       "      <td>draw</td>\n",
       "    </tr>\n",
       "  </tbody>\n",
       "</table>\n",
       "<p>5 rows × 41 columns</p>\n",
       "</div>"
      ],
      "text/plain": [
       "   wkf_a  wkf_b  wkf_c  wkf_d  wkr_1  wkr_2  wkr_3  wkr_4  wrf_a  wrf_b  \\\n",
       "0      1      0      0      0      1      0      0      0      0      1   \n",
       "1      1      0      0      0      1      0      0      0      0      0   \n",
       "2      1      0      0      0      1      0      0      0      0      0   \n",
       "3      1      0      0      0      1      0      0      0      0      0   \n",
       "4      1      0      0      0      1      0      0      0      0      0   \n",
       "\n",
       "   ...    bkf_h  bkr_1  bkr_2  bkr_3  bkr_4  bkr_5  bkr_6  bkr_7  bkr_8  class  \n",
       "0  ...        0      0      1      0      0      0      0      0      0   draw  \n",
       "1  ...        0      0      1      0      0      0      0      0      0   draw  \n",
       "2  ...        0      1      0      0      0      0      0      0      0   draw  \n",
       "3  ...        0      0      1      0      0      0      0      0      0   draw  \n",
       "4  ...        0      1      0      0      0      0      0      0      0   draw  \n",
       "\n",
       "[5 rows x 41 columns]"
      ]
     },
     "execution_count": 20,
     "metadata": {},
     "output_type": "execute_result"
    }
   ],
   "source": [
    "df_new.head()"
   ]
  },
  {
   "cell_type": "code",
   "execution_count": 21,
   "metadata": {},
   "outputs": [
    {
     "data": {
      "text/plain": [
       "array([ 0,  1,  2,  3,  4,  5,  6,  7,  8,  9, 10, 11, 12, 13, 14, 15, 16,\n",
       "       17], dtype=int64)"
      ]
     },
     "execution_count": 21,
     "metadata": {},
     "output_type": "execute_result"
    }
   ],
   "source": [
    "np.unique(y)"
   ]
  },
  {
   "cell_type": "code",
   "execution_count": 22,
   "metadata": {},
   "outputs": [
    {
     "data": {
      "text/plain": [
       "<Figure size 3000x2500 with 2 Axes>"
      ]
     },
     "metadata": {},
     "output_type": "display_data"
    }
   ],
   "source": [
    "import matplotlib.pyplot as plt\n",
    "import seaborn as sns\n",
    "plt.style.use('seaborn')\n",
    "\n",
    "plt.figure(figsize=(30, 25))\n",
    "sns.heatmap(df_new.corr(), annot=True)\n",
    "plt.show()"
   ]
  },
  {
   "cell_type": "markdown",
   "metadata": {},
   "source": [
    "Not much correlation..\n",
    "\n",
    "Let's visualize the relationship between the features and the class"
   ]
  },
  {
   "cell_type": "code",
   "execution_count": 23,
   "metadata": {},
   "outputs": [
    {
     "data": {
      "text/plain": [
       "h    3616\n",
       "g    3599\n",
       "f    3582\n",
       "e    3576\n",
       "a    3468\n",
       "b    3438\n",
       "c    3409\n",
       "d    3368\n",
       "Name: wrf, dtype: int64"
      ]
     },
     "execution_count": 23,
     "metadata": {},
     "output_type": "execute_result"
    }
   ],
   "source": [
    "df['wrf'].value_counts()"
   ]
  },
  {
   "cell_type": "code",
   "execution_count": 24,
   "metadata": {},
   "outputs": [
    {
     "data": {
      "text/plain": [
       "Text(0,0.5,'class')"
      ]
     },
     "execution_count": 24,
     "metadata": {},
     "output_type": "execute_result"
    },
    {
     "data": {
      "image/png": "[encoded data removed]",
      "text/plain": [
       "<Figure size 1080x720 with 4 Axes>"
      ]
     },
     "metadata": {},
     "output_type": "display_data"
    }
   ],
   "source": [
    "plt.figure(figsize=(15, 10))\n",
    "plt.subplot(2, 2, 1)\n",
    "fig = sns.boxplot(x=df['bkr'], y=y)\n",
    "fig.axis(ymin=0, ymax=18)\n",
    "fig.set_ylabel('class')\n",
    "\n",
    "plt.subplot(2, 2, 2)\n",
    "fig = sns.boxplot(x=df['wkr'], y=y)\n",
    "fig.axis(ymin=0, ymax=18)\n",
    "fig.set_ylabel('class')\n",
    "\n",
    "plt.subplot(2, 2, 3)\n",
    "fig = sns.boxplot(x=df['bkf'], y=y)\n",
    "fig.axis(ymin=0, ymax=18)\n",
    "fig.set_ylabel('class')\n",
    "\n",
    "plt.subplot(2, 2, 4)\n",
    "fig = sns.boxplot(x=df['wrf'], y=y)\n",
    "fig.axis(ymin=0, ymax=18)\n",
    "fig.set_ylabel('class')"
   ]
  },
  {
   "cell_type": "markdown",
   "metadata": {},
   "source": [
    "Looks like most features are more or less evenly distributed"
   ]
  },
  {
   "cell_type": "markdown",
   "metadata": {},
   "source": [
    "## Create our model"
   ]
  },
  {
   "cell_type": "code",
   "execution_count": 33,
   "metadata": {},
   "outputs": [],
   "source": [
    "from sklearn.model_selection import train_test_split\n",
    "from sklearn.metrics import accuracy_score, classification_report\n",
    "from sklearn.linear_model import LogisticRegression\n",
    "from sklearn.ensemble import RandomForestClassifier\n",
    "\n",
    "X_train, X_test, y_train, y_test = train_test_split(X, y, test_size=0.3, random_state=42)"
   ]
  },
  {
   "cell_type": "code",
   "execution_count": 26,
   "metadata": {},
   "outputs": [
    {
     "name": "stdout",
     "output_type": "stream",
     "text": [
      "\n",
      "Logistic Regression - Train accuracy 0.367\n",
      "\n",
      "Logistic Regression - Test accuracy 0.358\n"
     ]
    }
   ],
   "source": [
    "lr = LogisticRegression()\n",
    "lr.fit(X_train, y_train)\n",
    "\n",
    "pred = lr.predict(X_train)\n",
    "# print('Logistic Regression - Train Confusion Matrix\\n\\n', pd.crosstab(y_train, pred,\n",
    "#                                                                     rownames=['Actual'], colnames=['Predicted']), sep='')\n",
    "print('\\nLogistic Regression - Train accuracy', round(accuracy_score(y_train, pred), 3))\n",
    "\n",
    "pred = lr.predict(X_test)\n",
    "# print('Logistic Regression - Test Confusion Matrix\\n\\n', pd.crosstab(y_test, pred,\n",
    "#                                                                     rownames=['Actual'], colnames=['Predicted']), sep='')\n",
    "print('\\nLogistic Regression - Test accuracy', round(accuracy_score(y_test, pred), 3))"
   ]
  },
  {
   "cell_type": "code",
   "execution_count": 27,
   "metadata": {},
   "outputs": [
    {
     "name": "stdout",
     "output_type": "stream",
     "text": [
      "\n",
      "Random Forest - Train accuracy 0.926\n",
      "\n",
      "Random Forest - Test accuracy 0.683\n"
     ]
    }
   ],
   "source": [
    "rf_fit = RandomForestClassifier(n_estimators=1000, criterion='gini', max_depth=100, min_samples_split=3, min_samples_leaf=2)\n",
    "rf_fit.fit(X_train, y_train)\n",
    "\n",
    "# print('Random Forest - Train Confusion Matrix\\n\\n', pd.crosstab(y_train, rf_fit.predict(X_train),\n",
    "#                                                               rownames=['Actuall'], colnames=['Predicted']), sep=\"\")\n",
    "print('\\nRandom Forest - Train accuracy', round(accuracy_score(y_train, rf_fit.predict(X_train)), 3))\n",
    "\n",
    "# print('\\nRandom Forest - Test Confusion Matrix\\n\\n', pd.crosstab(y_test, rf_fit.predict(X_test),\n",
    "#                                                                rownames=['Actuall'], colnames=['Predicted']), sep=\"\")\n",
    "print('\\nRandom Forest - Test accuracy', round(accuracy_score(y_test, rf_fit.predict(X_test)), 3))"
   ]
  },
  {
   "cell_type": "code",
   "execution_count": 32,
   "metadata": {},
   "outputs": [
    {
     "name": "stdout",
     "output_type": "stream",
     "text": [
      "\n",
      "rbf SVM - Train accuracy:  0.715\n",
      "\n",
      "rbf SVM - Test accuracy:  0.654\n"
     ]
    }
   ],
   "source": [
    "from sklearn import svm # Support vector machine\n",
    "\n",
    "rbfSVM = svm.SVC(kernel='rbf', C=1, gamma=0.1)\n",
    "rbfSVM.fit(X_train, y_train)\n",
    "\n",
    "pred = rbfSVM.predict(X_train)\n",
    "print('\\nrbf SVM - Train accuracy: ', round(accuracy_score(pred, y_train), 3))\n",
    "\n",
    "pred = rbfSVM.predict(X_test)\n",
    "print('\\nrbf SVM - Test accuracy: ', round(accuracy_score(pred, y_test), 3))"
   ]
  },
  {
   "cell_type": "code",
   "execution_count": 28,
   "metadata": {},
   "outputs": [],
   "source": [
    "import matplotlib.pyplot as plt\n",
    "from sklearn.ensemble import RandomForestClassifier\n",
    "class feat_importances():\n",
    "    \n",
    "    def __init__(self, n_estimators=500, test_size=0.3, random_state=1):\n",
    "        self.test_size = test_size\n",
    "        self.random_state = random_state\n",
    "        self.n_estimators = n_estimators\n",
    "    \n",
    "    def get_feat_importances(self, X, y):\n",
    "        print(\"Feature ranking:\")\n",
    "        X_train, X_test, y_train, y_test = \\\n",
    "            train_test_split(X, y, test_size=self.test_size, random_state=self.random_state)\n",
    "\n",
    "        # optional hyperparameters tuning for rf: criterion='gini', max_depth=300, min_samples_split=3, min_samples_leaf=1\n",
    "        feat_labels = X.columns\n",
    "        forest = RandomForestClassifier(n_estimators=self.n_estimators, random_state=self.random_state)\n",
    "        \n",
    "        forest.fit(X_train, y_train)\n",
    "        importances = forest.feature_importances_\n",
    "\n",
    "        indices = np.argsort(importances)[::-1]\n",
    "        \n",
    "        for f in range(X_train.shape[1]):\n",
    "            print(\"%2d) %-*s %f\" % (indices[f], 30, feat_labels[indices[f]], importances[indices[f]]))\n",
    "        plt.title('Feature Importance')\n",
    "        plt.bar(range(X_train.shape[1]), importances[indices], align='center')\n",
    "        plt.xticks(range(X_train.shape[1]), feat_labels[indices], rotation=90)\n",
    "        plt.xlim([-1, X_train.shape[1]])\n",
    "        plt.tight_layout()\n",
    "        plt.show()\n",
    "      \n",
    "        \n",
    "    #def plot_feat_importances():"
   ]
  },
  {
   "cell_type": "code",
   "execution_count": 29,
   "metadata": {},
   "outputs": [
    {
     "name": "stdout",
     "output_type": "stream",
     "text": [
      "Feature ranking:\n",
      "19) wrr_4                          0.037653\n",
      "20) wrr_5                          0.036209\n",
      "13) wrf_f                          0.034607\n",
      "18) wrr_3                          0.034324\n",
      "14) wrf_g                          0.033953\n",
      "21) wrr_6                          0.033392\n",
      "12) wrf_e                          0.033073\n",
      "11) wrf_d                          0.031509\n",
      "17) wrr_2                          0.030871\n",
      "22) wrr_7                          0.030840\n",
      "15) wrf_h                          0.030829\n",
      " 9) wrf_b                          0.029656\n",
      "10) wrf_c                          0.029470\n",
      "23) wrr_8                          0.029227\n",
      "30) bkf_g                          0.028807\n",
      "16) wrr_1                          0.028409\n",
      "31) bkf_h                          0.028004\n",
      "32) bkr_1                          0.027820\n",
      " 8) wrf_a                          0.027294\n",
      "34) bkr_3                          0.025261\n",
      "33) bkr_2                          0.024293\n",
      "29) bkf_f                          0.024031\n",
      "24) bkf_a                          0.023459\n",
      "25) bkf_b                          0.022866\n",
      " 3) wkf_d                          0.022866\n",
      " 2) wkf_c                          0.022182\n",
      "38) bkr_7                          0.021509\n",
      " 4) wkr_1                          0.021110\n",
      "39) bkr_8                          0.021059\n",
      "35) bkr_4                          0.021040\n",
      "37) bkr_6                          0.020392\n",
      "36) bkr_5                          0.019648\n",
      "28) bkf_e                          0.018824\n",
      " 1) wkf_b                          0.017790\n",
      "27) bkf_d                          0.016432\n",
      "26) bkf_c                          0.015547\n",
      " 6) wkr_3                          0.014301\n",
      " 5) wkr_2                          0.013228\n",
      " 0) wkf_a                          0.009254\n",
      " 7) wkr_4                          0.008960\n"
     ]
    },
    {
     "data": {
      "image/png": "[encoded data removed]",
      "text/plain": [
       "<Figure size 1080x576 with 1 Axes>"
      ]
     },
     "metadata": {},
     "output_type": "display_data"
    }
   ],
   "source": [
    "plt.figure(figsize=(15, 8))\n",
    "feat_imp = feat_importances()\n",
    "feat_imp.get_feat_importances(X_train, y_train)"
   ]
  },
  {
   "cell_type": "code",
   "execution_count": 30,
   "metadata": {},
   "outputs": [],
   "source": [
    "# dataset from: https://archive.ics.uci.edu/ml/datasets/Chess+%28King-Rook+vs.+King%29"
   ]
  }
 ],
 "metadata": {
  "kernelspec": {
   "display_name": "Python 3",
   "language": "python",
   "name": "python3"
  },
  "language_info": {
   "codemirror_mode": {
    "name": "ipython",
    "version": 3
   },
   "file_extension": ".py",
   "mimetype": "text/x-python",
   "name": "python",
   "nbconvert_exporter": "python",
   "pygments_lexer": "ipython3",
   "version": "3.6.4"
  }
 },
 "nbformat": 4,
 "nbformat_minor": 2
}
