{
 "cells": [
  {
   "cell_type": "markdown",
   "metadata": {},
   "source": [
    "## Computer Hardware Data Set "
   ]
  },
  {
   "cell_type": "code",
   "execution_count": 1,
   "metadata": {},
   "outputs": [],
   "source": [
    "import pandas as pd"
   ]
  },
  {
   "cell_type": "code",
   "execution_count": 2,
   "metadata": {},
   "outputs": [],
   "source": [
    "df = pd.read_csv('./machine.data', header=None)\n",
    "df.columns = ['vendor', 'model', 'myct', 'mmin', 'mmax', 'cach', 'chmin', 'chmax',\n",
    "             'prp', 'erp']"
   ]
  },
  {
   "cell_type": "code",
   "execution_count": 3,
   "metadata": {},
   "outputs": [
    {
     "data": {
      "text/html": [
       "<div>\n",
       "<style scoped>\n",
       "    .dataframe tbody tr th:only-of-type {\n",
       "        vertical-align: middle;\n",
       "    }\n",
       "\n",
       "    .dataframe tbody tr th {\n",
       "        vertical-align: top;\n",
       "    }\n",
       "\n",
       "    .dataframe thead th {\n",
       "        text-align: right;\n",
       "    }\n",
       "</style>\n",
       "<table border=\"1\" class=\"dataframe\">\n",
       "  <thead>\n",
       "    <tr style=\"text-align: right;\">\n",
       "      <th></th>\n",
       "      <th>vendor</th>\n",
       "      <th>model</th>\n",
       "      <th>myct</th>\n",
       "      <th>mmin</th>\n",
       "      <th>mmax</th>\n",
       "      <th>cach</th>\n",
       "      <th>chmin</th>\n",
       "      <th>chmax</th>\n",
       "      <th>prp</th>\n",
       "      <th>erp</th>\n",
       "    </tr>\n",
       "  </thead>\n",
       "  <tbody>\n",
       "    <tr>\n",
       "      <th>0</th>\n",
       "      <td>adviser</td>\n",
       "      <td>32/60</td>\n",
       "      <td>125</td>\n",
       "      <td>256</td>\n",
       "      <td>6000</td>\n",
       "      <td>256</td>\n",
       "      <td>16</td>\n",
       "      <td>128</td>\n",
       "      <td>198</td>\n",
       "      <td>199</td>\n",
       "    </tr>\n",
       "    <tr>\n",
       "      <th>1</th>\n",
       "      <td>amdahl</td>\n",
       "      <td>470v/7</td>\n",
       "      <td>29</td>\n",
       "      <td>8000</td>\n",
       "      <td>32000</td>\n",
       "      <td>32</td>\n",
       "      <td>8</td>\n",
       "      <td>32</td>\n",
       "      <td>269</td>\n",
       "      <td>253</td>\n",
       "    </tr>\n",
       "    <tr>\n",
       "      <th>2</th>\n",
       "      <td>amdahl</td>\n",
       "      <td>470v/7a</td>\n",
       "      <td>29</td>\n",
       "      <td>8000</td>\n",
       "      <td>32000</td>\n",
       "      <td>32</td>\n",
       "      <td>8</td>\n",
       "      <td>32</td>\n",
       "      <td>220</td>\n",
       "      <td>253</td>\n",
       "    </tr>\n",
       "    <tr>\n",
       "      <th>3</th>\n",
       "      <td>amdahl</td>\n",
       "      <td>470v/7b</td>\n",
       "      <td>29</td>\n",
       "      <td>8000</td>\n",
       "      <td>32000</td>\n",
       "      <td>32</td>\n",
       "      <td>8</td>\n",
       "      <td>32</td>\n",
       "      <td>172</td>\n",
       "      <td>253</td>\n",
       "    </tr>\n",
       "    <tr>\n",
       "      <th>4</th>\n",
       "      <td>amdahl</td>\n",
       "      <td>470v/7c</td>\n",
       "      <td>29</td>\n",
       "      <td>8000</td>\n",
       "      <td>16000</td>\n",
       "      <td>32</td>\n",
       "      <td>8</td>\n",
       "      <td>16</td>\n",
       "      <td>132</td>\n",
       "      <td>132</td>\n",
       "    </tr>\n",
       "  </tbody>\n",
       "</table>\n",
       "</div>"
      ],
      "text/plain": [
       "    vendor    model  myct  mmin   mmax  cach  chmin  chmax  prp  erp\n",
       "0  adviser    32/60   125   256   6000   256     16    128  198  199\n",
       "1   amdahl   470v/7    29  8000  32000    32      8     32  269  253\n",
       "2   amdahl  470v/7a    29  8000  32000    32      8     32  220  253\n",
       "3   amdahl  470v/7b    29  8000  32000    32      8     32  172  253\n",
       "4   amdahl  470v/7c    29  8000  16000    32      8     16  132  132"
      ]
     },
     "execution_count": 3,
     "metadata": {},
     "output_type": "execute_result"
    }
   ],
   "source": [
    "df.head()"
   ]
  },
  {
   "cell_type": "code",
   "execution_count": 4,
   "metadata": {},
   "outputs": [
    {
     "data": {
      "text/plain": [
       "vendor    0\n",
       "model     0\n",
       "myct      0\n",
       "mmin      0\n",
       "mmax      0\n",
       "cach      0\n",
       "chmin     0\n",
       "chmax     0\n",
       "prp       0\n",
       "erp       0\n",
       "dtype: int64"
      ]
     },
     "execution_count": 4,
     "metadata": {},
     "output_type": "execute_result"
    }
   ],
   "source": [
    "df.isnull().sum()"
   ]
  },
  {
   "cell_type": "code",
   "execution_count": 5,
   "metadata": {},
   "outputs": [
    {
     "data": {
      "text/plain": [
       "vendor     30\n",
       "model     209\n",
       "myct       60\n",
       "mmin       25\n",
       "mmax       23\n",
       "cach       22\n",
       "chmin      15\n",
       "chmax      31\n",
       "prp       116\n",
       "erp       104\n",
       "dtype: int64"
      ]
     },
     "execution_count": 5,
     "metadata": {},
     "output_type": "execute_result"
    }
   ],
   "source": [
    "# Checking no. of unique value per feature, if nunique <= 1, drop feature\n",
    "df.nunique()"
   ]
  },
  {
   "cell_type": "code",
   "execution_count": 6,
   "metadata": {},
   "outputs": [
    {
     "name": "stdout",
     "output_type": "stream",
     "text": [
      "<class 'pandas.core.frame.DataFrame'>\n",
      "RangeIndex: 209 entries, 0 to 208\n",
      "Data columns (total 10 columns):\n",
      "vendor    209 non-null object\n",
      "model     209 non-null object\n",
      "myct      209 non-null int64\n",
      "mmin      209 non-null int64\n",
      "mmax      209 non-null int64\n",
      "cach      209 non-null int64\n",
      "chmin     209 non-null int64\n",
      "chmax     209 non-null int64\n",
      "prp       209 non-null int64\n",
      "erp       209 non-null int64\n",
      "dtypes: int64(8), object(2)\n",
      "memory usage: 16.4+ KB\n"
     ]
    }
   ],
   "source": [
    "df.info()"
   ]
  },
  {
   "cell_type": "code",
   "execution_count": 7,
   "metadata": {},
   "outputs": [
    {
     "data": {
      "text/plain": [
       "ibm             32\n",
       "nas             19\n",
       "ncr             13\n",
       "sperry          13\n",
       "honeywell       13\n",
       "siemens         12\n",
       "amdahl           9\n",
       "cdc              9\n",
       "burroughs        8\n",
       "hp               7\n",
       "dg               7\n",
       "harris           7\n",
       "ipl              6\n",
       "magnuson         6\n",
       "c.r.d            6\n",
       "dec              6\n",
       "formation        5\n",
       "cambex           5\n",
       "prime            5\n",
       "gould            3\n",
       "perkin-elmer     3\n",
       "nixdorf          3\n",
       "bti              2\n",
       "wang             2\n",
       "basf             2\n",
       "apollo           2\n",
       "microdata        1\n",
       "sratus           1\n",
       "four-phase       1\n",
       "adviser          1\n",
       "Name: vendor, dtype: int64"
      ]
     },
     "execution_count": 7,
     "metadata": {},
     "output_type": "execute_result"
    }
   ],
   "source": [
    "df['vendor'].value_counts()"
   ]
  },
  {
   "cell_type": "code",
   "execution_count": 8,
   "metadata": {},
   "outputs": [
    {
     "data": {
      "text/html": [
       "<div>\n",
       "<style scoped>\n",
       "    .dataframe tbody tr th:only-of-type {\n",
       "        vertical-align: middle;\n",
       "    }\n",
       "\n",
       "    .dataframe tbody tr th {\n",
       "        vertical-align: top;\n",
       "    }\n",
       "\n",
       "    .dataframe thead th {\n",
       "        text-align: right;\n",
       "    }\n",
       "</style>\n",
       "<table border=\"1\" class=\"dataframe\">\n",
       "  <thead>\n",
       "    <tr style=\"text-align: right;\">\n",
       "      <th></th>\n",
       "      <th>myct</th>\n",
       "      <th>mmin</th>\n",
       "      <th>mmax</th>\n",
       "      <th>cach</th>\n",
       "      <th>chmin</th>\n",
       "      <th>chmax</th>\n",
       "      <th>prp</th>\n",
       "      <th>erp</th>\n",
       "    </tr>\n",
       "  </thead>\n",
       "  <tbody>\n",
       "    <tr>\n",
       "      <th>count</th>\n",
       "      <td>209.000000</td>\n",
       "      <td>209.000000</td>\n",
       "      <td>209.000000</td>\n",
       "      <td>209.000000</td>\n",
       "      <td>209.000000</td>\n",
       "      <td>209.000000</td>\n",
       "      <td>209.000000</td>\n",
       "      <td>209.000000</td>\n",
       "    </tr>\n",
       "    <tr>\n",
       "      <th>mean</th>\n",
       "      <td>203.822967</td>\n",
       "      <td>2867.980861</td>\n",
       "      <td>11796.153110</td>\n",
       "      <td>25.205742</td>\n",
       "      <td>4.698565</td>\n",
       "      <td>18.267943</td>\n",
       "      <td>105.622010</td>\n",
       "      <td>99.330144</td>\n",
       "    </tr>\n",
       "    <tr>\n",
       "      <th>std</th>\n",
       "      <td>260.262926</td>\n",
       "      <td>3878.742758</td>\n",
       "      <td>11726.564377</td>\n",
       "      <td>40.628722</td>\n",
       "      <td>6.816274</td>\n",
       "      <td>25.997318</td>\n",
       "      <td>160.830733</td>\n",
       "      <td>154.757102</td>\n",
       "    </tr>\n",
       "    <tr>\n",
       "      <th>min</th>\n",
       "      <td>17.000000</td>\n",
       "      <td>64.000000</td>\n",
       "      <td>64.000000</td>\n",
       "      <td>0.000000</td>\n",
       "      <td>0.000000</td>\n",
       "      <td>0.000000</td>\n",
       "      <td>6.000000</td>\n",
       "      <td>15.000000</td>\n",
       "    </tr>\n",
       "    <tr>\n",
       "      <th>25%</th>\n",
       "      <td>50.000000</td>\n",
       "      <td>768.000000</td>\n",
       "      <td>4000.000000</td>\n",
       "      <td>0.000000</td>\n",
       "      <td>1.000000</td>\n",
       "      <td>5.000000</td>\n",
       "      <td>27.000000</td>\n",
       "      <td>28.000000</td>\n",
       "    </tr>\n",
       "    <tr>\n",
       "      <th>50%</th>\n",
       "      <td>110.000000</td>\n",
       "      <td>2000.000000</td>\n",
       "      <td>8000.000000</td>\n",
       "      <td>8.000000</td>\n",
       "      <td>2.000000</td>\n",
       "      <td>8.000000</td>\n",
       "      <td>50.000000</td>\n",
       "      <td>45.000000</td>\n",
       "    </tr>\n",
       "    <tr>\n",
       "      <th>75%</th>\n",
       "      <td>225.000000</td>\n",
       "      <td>4000.000000</td>\n",
       "      <td>16000.000000</td>\n",
       "      <td>32.000000</td>\n",
       "      <td>6.000000</td>\n",
       "      <td>24.000000</td>\n",
       "      <td>113.000000</td>\n",
       "      <td>101.000000</td>\n",
       "    </tr>\n",
       "    <tr>\n",
       "      <th>max</th>\n",
       "      <td>1500.000000</td>\n",
       "      <td>32000.000000</td>\n",
       "      <td>64000.000000</td>\n",
       "      <td>256.000000</td>\n",
       "      <td>52.000000</td>\n",
       "      <td>176.000000</td>\n",
       "      <td>1150.000000</td>\n",
       "      <td>1238.000000</td>\n",
       "    </tr>\n",
       "  </tbody>\n",
       "</table>\n",
       "</div>"
      ],
      "text/plain": [
       "              myct          mmin          mmax        cach       chmin  \\\n",
       "count   209.000000    209.000000    209.000000  209.000000  209.000000   \n",
       "mean    203.822967   2867.980861  11796.153110   25.205742    4.698565   \n",
       "std     260.262926   3878.742758  11726.564377   40.628722    6.816274   \n",
       "min      17.000000     64.000000     64.000000    0.000000    0.000000   \n",
       "25%      50.000000    768.000000   4000.000000    0.000000    1.000000   \n",
       "50%     110.000000   2000.000000   8000.000000    8.000000    2.000000   \n",
       "75%     225.000000   4000.000000  16000.000000   32.000000    6.000000   \n",
       "max    1500.000000  32000.000000  64000.000000  256.000000   52.000000   \n",
       "\n",
       "            chmax          prp          erp  \n",
       "count  209.000000   209.000000   209.000000  \n",
       "mean    18.267943   105.622010    99.330144  \n",
       "std     25.997318   160.830733   154.757102  \n",
       "min      0.000000     6.000000    15.000000  \n",
       "25%      5.000000    27.000000    28.000000  \n",
       "50%      8.000000    50.000000    45.000000  \n",
       "75%     24.000000   113.000000   101.000000  \n",
       "max    176.000000  1150.000000  1238.000000  "
      ]
     },
     "execution_count": 8,
     "metadata": {},
     "output_type": "execute_result"
    }
   ],
   "source": [
    "df.describe()"
   ]
  },
  {
   "cell_type": "code",
   "execution_count": 9,
   "metadata": {},
   "outputs": [
    {
     "data": {
      "text/plain": [
       "Text(0.5,1,'Correlation Matrix')"
      ]
     },
     "execution_count": 9,
     "metadata": {},
     "output_type": "execute_result"
    },
    {
     "data": {
      "image/png": "[encoded data removed]",
      "text/plain": [
       "<Figure size 720x576 with 2 Axes>"
      ]
     },
     "metadata": {},
     "output_type": "display_data"
    }
   ],
   "source": [
    "import matplotlib.pyplot as plt\n",
    "import seaborn as sns\n",
    "plt.style.use('seaborn')\n",
    "%matplotlib inline\n",
    "\n",
    "plt.figure(figsize=(10, 8))\n",
    "# here we excluded erp, as it's the estimated relative performance values estimated by other authors\n",
    "sns.heatmap(df[['myct', 'mmin', 'mmax', 'cach', 'chmin', 'chmax', 'prp']].corr(), annot=True)\n",
    "plt.title('Correlation Matrix', fontsize=14)"
   ]
  },
  {
   "cell_type": "code",
   "execution_count": 10,
   "metadata": {},
   "outputs": [
    {
     "data": {
      "image/png": "[encoded data removed]",
      "text/plain": [
       "<Figure size 1080x864 with 9 Axes>"
      ]
     },
     "metadata": {},
     "output_type": "display_data"
    }
   ],
   "source": [
    "# Since the dimensions are small lets do a pairplot and visualise their distribution\n",
    "\n",
    "df.hist()\n",
    "fig = plt.gcf()\n",
    "fig.set_size_inches(15, 12)\n",
    "plt.show()"
   ]
  },
  {
   "cell_type": "code",
   "execution_count": 11,
   "metadata": {},
   "outputs": [
    {
     "data": {
      "image/png": "[encoded data removed]",
      "text/plain": [
       "<Figure size 1440x1440 with 72 Axes>"
      ]
     },
     "metadata": {},
     "output_type": "display_data"
    }
   ],
   "source": [
    "pairplot = sns.pairplot(df, markers='+')\n",
    "plt.show()"
   ]
  },
  {
   "cell_type": "code",
   "execution_count": 12,
   "metadata": {},
   "outputs": [],
   "source": [
    "d_vendor = pd.get_dummies(df['vendor'], prefix='vdr', drop_first=True)"
   ]
  },
  {
   "cell_type": "code",
   "execution_count": 13,
   "metadata": {},
   "outputs": [],
   "source": [
    "# Let's exclude vendor and model for now as they contained 30 and 209 values respectively,\n",
    "# It is huge if we want to one-hot encode these two.\n",
    "# According to data description, we will only use these 6 numeric predictors\n",
    "X = df[['myct', 'mmin', 'mmax', 'cach', 'chmin', 'chmax']]\n",
    "y = df['prp']"
   ]
  },
  {
   "cell_type": "code",
   "execution_count": 14,
   "metadata": {},
   "outputs": [],
   "source": [
    "from sklearn.model_selection import train_test_split\n",
    "from sklearn.metrics import r2_score\n",
    "\n",
    "X_train, X_test, y_train, y_test = train_test_split(X, y, test_size=0.3, random_state=42) # stratify=y if there are more than 1 count of the same values for the respond feature"
   ]
  },
  {
   "cell_type": "code",
   "execution_count": 15,
   "metadata": {},
   "outputs": [
    {
     "name": "stdout",
     "output_type": "stream",
     "text": [
      "\n",
      "Linear Regression - Train accuracy:  0.8704518031959315\n",
      "\n",
      "Linear Regression - Test accuracy:  0.7382076147408105\n"
     ]
    }
   ],
   "source": [
    "from sklearn.linear_model import LinearRegression\n",
    "\n",
    "lr = LinearRegression()\n",
    "lr.fit(X_train, y_train)\n",
    "pred = lr.predict(X_train)\n",
    "\n",
    "print('\\nLinear Regression - Train accuracy: ', r2_score(y_train, pred))\n",
    "\n",
    "pred = lr.predict(X_test)\n",
    "print('\\nLinear Regression - Test accuracy: ', r2_score(y_test, pred))\n"
   ]
  },
  {
   "cell_type": "code",
   "execution_count": 16,
   "metadata": {},
   "outputs": [
    {
     "name": "stdout",
     "output_type": "stream",
     "text": [
      "Ridge Regression: Best Parameters\n",
      "Lambda:  0.0001  Train R-Squared value: 0.87045 Test R-squared value: 0.73821\n",
      "Lambda:  0.001  Train R-Squared value: 0.87045 Test R-squared value: 0.73821\n",
      "Lambda:  0.01  Train R-Squared value: 0.87045 Test R-squared value: 0.73821\n",
      "Lambda:  1.0  Train R-Squared value: 0.87045 Test R-squared value: 0.73823\n",
      "Lambda:  5.0  Train R-Squared value: 0.87045 Test R-squared value: 0.73832\n",
      "Lambda:  10.0  Train R-Squared value: 0.87045 Test R-squared value: 0.73843\n"
     ]
    }
   ],
   "source": [
    "from sklearn.linear_model import Ridge\n",
    "\n",
    "alphas = [1e-4, 1e-3, 1e-2, -.1, -.5, 1.0, 5.0, 10.0]\n",
    "init_rsqrd = 0\n",
    "print('Ridge Regression: Best Parameters')\n",
    "for i in alphas:\n",
    "    rr = Ridge(alpha=i)\n",
    "    rr.fit(X_train, y_train)\n",
    "        \n",
    "    tr_rsqrd = r2_score(y_train, rr.predict(X_train)) # train\n",
    "    ts_rsqrd = r2_score(y_test, rr.predict(X_test)) # test\n",
    "    \n",
    "    # alternative\n",
    "    # tr_rsqrd = rr.score(X_train, y_train) # train\n",
    "    # ts_rsqrd = rr.score(X_test, y_test) # test\n",
    "\n",
    "    \n",
    "    if ts_rsqrd > init_rsqrd: \n",
    "        print('Lambda: ', i, ' Train R-Squared value:', round(tr_rsqrd, 5),\n",
    "             'Test R-squared value:', round(ts_rsqrd, 5))\n",
    "        init_rsqrd = ts_rsqrd"
   ]
  },
  {
   "cell_type": "code",
   "execution_count": 17,
   "metadata": {},
   "outputs": [
    {
     "name": "stdout",
     "output_type": "stream",
     "text": [
      "Lasso Regression: Best Parameters\n",
      "Lambda:  0.0001 Train R-Squared value: 0.87045 Test R-squared value: 0.73821\n",
      "Lambda:  0.001 Train R-Squared value: 0.87045 Test R-squared value: 0.73821\n",
      "Lambda:  0.01 Train R-Squared value: 0.87045 Test R-squared value: 0.73821\n",
      "Lambda:  0.1 Train R-Squared value: 0.87045 Test R-squared value: 0.73826\n",
      "Lambda:  0.5 Train R-Squared value: 0.87045 Test R-squared value: 0.73848\n",
      "Lambda:  1.0 Train R-Squared value: 0.87045 Test R-squared value: 0.73874\n",
      "Lambda:  5.0 Train R-Squared value: 0.87034 Test R-squared value: 0.74083\n",
      "Lambda:  10.0 Train R-Squared value: 0.87002 Test R-squared value: 0.74336\n"
     ]
    }
   ],
   "source": [
    "from sklearn.linear_model import Lasso\n",
    "# Simple grid search to evaluate the alphas for lasso regression\n",
    "alphas = [1e-4, 1e-3, 1e-2, 0.1, 0.5, 1.0, 5.0, 10.0]\n",
    "init_rsqrd = 0\n",
    "print(\"Lasso Regression: Best Parameters\")\n",
    "\n",
    "for i in alphas:\n",
    "    lasso_reg = Lasso(alpha=i)\n",
    "    lasso_reg.fit(X_train, y_train)\n",
    "    tr_rsqrd = lasso_reg.score(X_train, y_train)\n",
    "    ts_rsqrd = lasso_reg.score(X_test, y_test)\n",
    "    \n",
    "    if ts_rsqrd > init_rsqrd:\n",
    "        print(\"Lambda: \", i, \"Train R-Squared value:\", round(tr_rsqrd, 5),\n",
    "             \"Test R-squared value:\", round(ts_rsqrd, 5))\n",
    "        init_rsqrd = ts_rsqrd"
   ]
  },
  {
   "cell_type": "markdown",
   "metadata": {},
   "source": [
    "Looks like lasso reg yields slightly better r2"
   ]
  },
  {
   "cell_type": "code",
   "execution_count": 18,
   "metadata": {},
   "outputs": [
    {
     "data": {
      "text/html": [
       "<div>\n",
       "<style scoped>\n",
       "    .dataframe tbody tr th:only-of-type {\n",
       "        vertical-align: middle;\n",
       "    }\n",
       "\n",
       "    .dataframe tbody tr th {\n",
       "        vertical-align: top;\n",
       "    }\n",
       "\n",
       "    .dataframe thead th {\n",
       "        text-align: right;\n",
       "    }\n",
       "</style>\n",
       "<table border=\"1\" class=\"dataframe\">\n",
       "  <thead>\n",
       "    <tr style=\"text-align: right;\">\n",
       "      <th></th>\n",
       "      <th>myct</th>\n",
       "      <th>mmin</th>\n",
       "      <th>mmax</th>\n",
       "      <th>cach</th>\n",
       "      <th>chmin</th>\n",
       "      <th>chmax</th>\n",
       "      <th>prp</th>\n",
       "      <th>erp</th>\n",
       "    </tr>\n",
       "  </thead>\n",
       "  <tbody>\n",
       "    <tr>\n",
       "      <th>count</th>\n",
       "      <td>209.000000</td>\n",
       "      <td>209.000000</td>\n",
       "      <td>209.000000</td>\n",
       "      <td>209.000000</td>\n",
       "      <td>209.000000</td>\n",
       "      <td>209.000000</td>\n",
       "      <td>209.000000</td>\n",
       "      <td>209.000000</td>\n",
       "    </tr>\n",
       "    <tr>\n",
       "      <th>mean</th>\n",
       "      <td>203.822967</td>\n",
       "      <td>2867.980861</td>\n",
       "      <td>11796.153110</td>\n",
       "      <td>25.205742</td>\n",
       "      <td>4.698565</td>\n",
       "      <td>18.267943</td>\n",
       "      <td>105.622010</td>\n",
       "      <td>99.330144</td>\n",
       "    </tr>\n",
       "    <tr>\n",
       "      <th>std</th>\n",
       "      <td>260.262926</td>\n",
       "      <td>3878.742758</td>\n",
       "      <td>11726.564377</td>\n",
       "      <td>40.628722</td>\n",
       "      <td>6.816274</td>\n",
       "      <td>25.997318</td>\n",
       "      <td>160.830733</td>\n",
       "      <td>154.757102</td>\n",
       "    </tr>\n",
       "    <tr>\n",
       "      <th>min</th>\n",
       "      <td>17.000000</td>\n",
       "      <td>64.000000</td>\n",
       "      <td>64.000000</td>\n",
       "      <td>0.000000</td>\n",
       "      <td>0.000000</td>\n",
       "      <td>0.000000</td>\n",
       "      <td>6.000000</td>\n",
       "      <td>15.000000</td>\n",
       "    </tr>\n",
       "    <tr>\n",
       "      <th>25%</th>\n",
       "      <td>50.000000</td>\n",
       "      <td>768.000000</td>\n",
       "      <td>4000.000000</td>\n",
       "      <td>0.000000</td>\n",
       "      <td>1.000000</td>\n",
       "      <td>5.000000</td>\n",
       "      <td>27.000000</td>\n",
       "      <td>28.000000</td>\n",
       "    </tr>\n",
       "    <tr>\n",
       "      <th>50%</th>\n",
       "      <td>110.000000</td>\n",
       "      <td>2000.000000</td>\n",
       "      <td>8000.000000</td>\n",
       "      <td>8.000000</td>\n",
       "      <td>2.000000</td>\n",
       "      <td>8.000000</td>\n",
       "      <td>50.000000</td>\n",
       "      <td>45.000000</td>\n",
       "    </tr>\n",
       "    <tr>\n",
       "      <th>75%</th>\n",
       "      <td>225.000000</td>\n",
       "      <td>4000.000000</td>\n",
       "      <td>16000.000000</td>\n",
       "      <td>32.000000</td>\n",
       "      <td>6.000000</td>\n",
       "      <td>24.000000</td>\n",
       "      <td>113.000000</td>\n",
       "      <td>101.000000</td>\n",
       "    </tr>\n",
       "    <tr>\n",
       "      <th>max</th>\n",
       "      <td>1500.000000</td>\n",
       "      <td>32000.000000</td>\n",
       "      <td>64000.000000</td>\n",
       "      <td>256.000000</td>\n",
       "      <td>52.000000</td>\n",
       "      <td>176.000000</td>\n",
       "      <td>1150.000000</td>\n",
       "      <td>1238.000000</td>\n",
       "    </tr>\n",
       "  </tbody>\n",
       "</table>\n",
       "</div>"
      ],
      "text/plain": [
       "              myct          mmin          mmax        cach       chmin  \\\n",
       "count   209.000000    209.000000    209.000000  209.000000  209.000000   \n",
       "mean    203.822967   2867.980861  11796.153110   25.205742    4.698565   \n",
       "std     260.262926   3878.742758  11726.564377   40.628722    6.816274   \n",
       "min      17.000000     64.000000     64.000000    0.000000    0.000000   \n",
       "25%      50.000000    768.000000   4000.000000    0.000000    1.000000   \n",
       "50%     110.000000   2000.000000   8000.000000    8.000000    2.000000   \n",
       "75%     225.000000   4000.000000  16000.000000   32.000000    6.000000   \n",
       "max    1500.000000  32000.000000  64000.000000  256.000000   52.000000   \n",
       "\n",
       "            chmax          prp          erp  \n",
       "count  209.000000   209.000000   209.000000  \n",
       "mean    18.267943   105.622010    99.330144  \n",
       "std     25.997318   160.830733   154.757102  \n",
       "min      0.000000     6.000000    15.000000  \n",
       "25%      5.000000    27.000000    28.000000  \n",
       "50%      8.000000    50.000000    45.000000  \n",
       "75%     24.000000   113.000000   101.000000  \n",
       "max    176.000000  1150.000000  1238.000000  "
      ]
     },
     "execution_count": 18,
     "metadata": {},
     "output_type": "execute_result"
    }
   ],
   "source": [
    "df.describe()"
   ]
  },
  {
   "cell_type": "code",
   "execution_count": 19,
   "metadata": {},
   "outputs": [
    {
     "name": "stdout",
     "output_type": "stream",
     "text": [
      "\n",
      "Linear Regression - Train accuracy:  0.8648906922768672\n"
     ]
    }
   ],
   "source": [
    "# Fitting on all training instances\n",
    "from sklearn.linear_model import LinearRegression\n",
    "\n",
    "lr = LinearRegression()\n",
    "lr.fit(X, y)\n",
    "pred = lr.predict(X)\n",
    "\n",
    "print('\\nLinear Regression - Train accuracy: ', r2_score(y, pred))"
   ]
  },
  {
   "cell_type": "code",
   "execution_count": 20,
   "metadata": {},
   "outputs": [
    {
     "data": {
      "text/plain": [
       "0.8437845279991962"
      ]
     },
     "execution_count": 20,
     "metadata": {},
     "output_type": "execute_result"
    }
   ],
   "source": [
    "r2_score(pred, df['prp']) # r2_score increased from .84 to .89 after adding vendor as features"
   ]
  },
  {
   "cell_type": "code",
   "execution_count": 21,
   "metadata": {},
   "outputs": [
    {
     "data": {
      "text/plain": [
       "0.8437845279991962"
      ]
     },
     "execution_count": 21,
     "metadata": {},
     "output_type": "execute_result"
    }
   ],
   "source": [
    "rr = Ridge(alpha=0.0001)\n",
    "rr.fit(X, y)\n",
    "r2_score(pred, df['prp'])\n",
    "\n",
    "#Ridge Regression: Best Parameters\n",
    "#Lambda:  0.0001  Train R-Squared value: 0.89861 Test R-squared value: 0.75432\n",
    "#Lambda:  -0.5  Train R-Squared value: 0.87556 Test R-squared value: 0.80894"
   ]
  },
  {
   "cell_type": "markdown",
   "metadata": {},
   "source": [
    "Looks like the best r2 is only 84.3% when fitted on all training instances using Linear Regerssion \n",
    "\n",
    "Let's include the vendor name as a feature and sees if the square errors reduces"
   ]
  },
  {
   "cell_type": "code",
   "execution_count": 22,
   "metadata": {},
   "outputs": [],
   "source": [
    "numeric_cols = ['myct', 'mmin', 'mmax', 'cach', 'chmin', 'chmax']\n",
    "X = pd.concat([df[numeric_cols], d_vendor], axis=1)\n",
    "y = df['prp']"
   ]
  },
  {
   "cell_type": "code",
   "execution_count": 23,
   "metadata": {},
   "outputs": [],
   "source": [
    "from sklearn.model_selection import train_test_split\n",
    "from sklearn.metrics import r2_score\n",
    "\n",
    "X_train, X_test, y_train, y_test = train_test_split(X, y, test_size=0.3, random_state=42) # stratify=y if there are more than 1 count of the same values for the respond feature"
   ]
  },
  {
   "cell_type": "code",
   "execution_count": 24,
   "metadata": {},
   "outputs": [
    {
     "name": "stdout",
     "output_type": "stream",
     "text": [
      "\n",
      "Linear Regression - Train accuracy:  0.8986125721399391\n",
      "\n",
      "Linear Regression - Test accuracy:  0.7545321019151943\n"
     ]
    }
   ],
   "source": [
    "from sklearn.linear_model import LinearRegression\n",
    "\n",
    "lr = LinearRegression()\n",
    "lr.fit(X_train, y_train)\n",
    "pred = lr.predict(X_train)\n",
    "print('\\nLinear Regression - Train accuracy: ', r2_score(y_train, pred))\n",
    "\n",
    "pred = lr.predict(X_test)\n",
    "print('\\nLinear Regression - Test accuracy: ', r2_score(y_test, pred))"
   ]
  },
  {
   "cell_type": "markdown",
   "metadata": {},
   "source": [
    "Here we get slightly better r2 with test accuracy from 0.7382 to 0.7545\n",
    "\n",
    "Let's try on ridge and lasso regression"
   ]
  },
  {
   "cell_type": "code",
   "execution_count": 25,
   "metadata": {},
   "outputs": [
    {
     "name": "stdout",
     "output_type": "stream",
     "text": [
      "Ridge Regression: Best Parameters\n",
      "Lambda:  0.0001  Train R-Squared value: 0.89861 Test R-squared value: 0.75432\n",
      "Lambda:  -0.5  Train R-Squared value: 0.87556 Test R-squared value: 0.80894\n"
     ]
    }
   ],
   "source": [
    "from sklearn.linear_model import Ridge\n",
    "\n",
    "alphas = [1e-4, 1e-3, 1e-2, -.1, -.5, 1.0, 5.0, 10.0]\n",
    "init_rsqrd = 0\n",
    "print('Ridge Regression: Best Parameters')\n",
    "for i in alphas:\n",
    "    rr = Ridge(alpha=i)\n",
    "    rr.fit(X_train, y_train)\n",
    "        \n",
    "    tr_rsqrd = r2_score(y_train, rr.predict(X_train)) # train\n",
    "    ts_rsqrd = r2_score(y_test, rr.predict(X_test)) # test\n",
    "    \n",
    "    # alternative\n",
    "    # tr_rsqrd = rr.score(X_train, y_train) # train\n",
    "    # ts_rsqrd = rr.score(X_test, y_test) # test\n",
    "\n",
    "    \n",
    "    if ts_rsqrd > init_rsqrd: \n",
    "        print('Lambda: ', i, ' Train R-Squared value:', round(tr_rsqrd, 5),\n",
    "             'Test R-squared value:', round(ts_rsqrd, 5))\n",
    "        init_rsqrd = ts_rsqrd"
   ]
  },
  {
   "cell_type": "code",
   "execution_count": 26,
   "metadata": {},
   "outputs": [
    {
     "name": "stdout",
     "output_type": "stream",
     "text": [
      "Lasso Regression: Best Parameters\n",
      "Lambda:  0.0001 Train R-Squared value: 0.89861 Test R-squared value: 0.75428\n"
     ]
    }
   ],
   "source": [
    "from sklearn.linear_model import Lasso\n",
    "# Simple grid search to evaluate the alphas for lasso regression\n",
    "alphas = [1e-4, 1e-3, 1e-2, 0.1, 0.5, 1.0, 5.0, 10.0]\n",
    "init_rsqrd = 0\n",
    "print(\"Lasso Regression: Best Parameters\")\n",
    "\n",
    "for i in alphas:\n",
    "    lasso_reg = Lasso(alpha=i, max_iter=5000)\n",
    "    lasso_reg.fit(X_train, y_train)\n",
    "    tr_rsqrd = lasso_reg.score(X_train, y_train)\n",
    "    ts_rsqrd = lasso_reg.score(X_test, y_test)\n",
    "    \n",
    "    if ts_rsqrd > init_rsqrd:\n",
    "        print(\"Lambda: \", i, \"Train R-Squared value:\", round(tr_rsqrd, 5),\n",
    "             \"Test R-squared value:\", round(ts_rsqrd, 5))\n",
    "        init_rsqrd = ts_rsqrd"
   ]
  },
  {
   "cell_type": "markdown",
   "metadata": {},
   "source": [
    "Given the above test, we see that ridge regression gives better test r2 of 0.8089 with the feature 'vendor'."
   ]
  },
  {
   "cell_type": "markdown",
   "metadata": {},
   "source": [
    "Fitting on all training instances using Linear Regression with the feature 'vendor'."
   ]
  },
  {
   "cell_type": "code",
   "execution_count": 27,
   "metadata": {},
   "outputs": [
    {
     "name": "stdout",
     "output_type": "stream",
     "text": [
      "\n",
      "Linear Regression - on all instances 0.90332\n"
     ]
    }
   ],
   "source": [
    "from sklearn.linear_model import LinearRegression\n",
    "\n",
    "lr = LinearRegression()\n",
    "lr.fit(X, y)\n",
    "pred = lr.predict(X)\n",
    "print('\\nLinear Regression - on all instances', round(r2_score(y, pred), 5))"
   ]
  },
  {
   "cell_type": "markdown",
   "metadata": {},
   "source": [
    "We got a much better r2 of 0.9033 when fitted on all training instances with the feature 'vendor'"
   ]
  },
  {
   "cell_type": "markdown",
   "metadata": {},
   "source": [
    "Let's use the alpha we've found when trained on lasso and ridge regression with the best test accuracy.\n",
    "\n",
    "Ridge Regression: Best Parameters (with feature \"vendor\")\n",
    "-  Lambda:  -0.5  Train R-Squared value: 0.87556 Test R-squared value: 0.80894\n",
    "\n",
    "Lasso Regression: Best Parameters\n",
    "-  Lambda:  0.0001 Train R-Squared value: 0.89861 Test R-squared value: 0.75401"
   ]
  },
  {
   "cell_type": "code",
   "execution_count": 28,
   "metadata": {},
   "outputs": [
    {
     "name": "stdout",
     "output_type": "stream",
     "text": [
      "\n",
      "Ridge Regression - on all instances 0.86829\n",
      "\n",
      "Lasso Regression - on all instances 0.90332\n"
     ]
    }
   ],
   "source": [
    "from sklearn.linear_model import Ridge\n",
    "from sklearn.linear_model import Lasso\n",
    "\n",
    "rr = Ridge(alpha=-.5, max_iter=5000)\n",
    "rr.fit(X, y)\n",
    "pred = rr.predict(X)\n",
    "print('\\nRidge Regression - on all instances', round(r2_score(y, pred), 5))\n",
    "\n",
    "ls = Lasso(alpha=0.0001, max_iter=5000)\n",
    "ls.fit(X, y)\n",
    "pred = ls.predict(X)\n",
    "print('\\nLasso Regression - on all instances', round(r2_score(y, pred), 5))"
   ]
  },
  {
   "cell_type": "markdown",
   "metadata": {},
   "source": [
    "Looks like 90.33% is our best r2 obtained from either Linear Regression or Lasso Regression."
   ]
  },
  {
   "cell_type": "code",
   "execution_count": 29,
   "metadata": {},
   "outputs": [
    {
     "data": {
      "text/html": [
       "<div>\n",
       "<style scoped>\n",
       "    .dataframe tbody tr th:only-of-type {\n",
       "        vertical-align: middle;\n",
       "    }\n",
       "\n",
       "    .dataframe tbody tr th {\n",
       "        vertical-align: top;\n",
       "    }\n",
       "\n",
       "    .dataframe thead th {\n",
       "        text-align: right;\n",
       "    }\n",
       "</style>\n",
       "<table border=\"1\" class=\"dataframe\">\n",
       "  <thead>\n",
       "    <tr style=\"text-align: right;\">\n",
       "      <th></th>\n",
       "      <th>erp</th>\n",
       "      <th>predicted</th>\n",
       "      <th>prp</th>\n",
       "    </tr>\n",
       "  </thead>\n",
       "  <tbody>\n",
       "    <tr>\n",
       "      <th>0</th>\n",
       "      <td>199</td>\n",
       "      <td>198.606137</td>\n",
       "      <td>198</td>\n",
       "    </tr>\n",
       "    <tr>\n",
       "      <th>1</th>\n",
       "      <td>253</td>\n",
       "      <td>278.172817</td>\n",
       "      <td>269</td>\n",
       "    </tr>\n",
       "    <tr>\n",
       "      <th>2</th>\n",
       "      <td>253</td>\n",
       "      <td>278.172817</td>\n",
       "      <td>220</td>\n",
       "    </tr>\n",
       "    <tr>\n",
       "      <th>3</th>\n",
       "      <td>253</td>\n",
       "      <td>278.172817</td>\n",
       "      <td>172</td>\n",
       "    </tr>\n",
       "    <tr>\n",
       "      <th>4</th>\n",
       "      <td>132</td>\n",
       "      <td>180.652326</td>\n",
       "      <td>132</td>\n",
       "    </tr>\n",
       "    <tr>\n",
       "      <th>5</th>\n",
       "      <td>290</td>\n",
       "      <td>300.973465</td>\n",
       "      <td>318</td>\n",
       "    </tr>\n",
       "    <tr>\n",
       "      <th>6</th>\n",
       "      <td>381</td>\n",
       "      <td>445.574396</td>\n",
       "      <td>367</td>\n",
       "    </tr>\n",
       "    <tr>\n",
       "      <th>7</th>\n",
       "      <td>381</td>\n",
       "      <td>445.574396</td>\n",
       "      <td>489</td>\n",
       "    </tr>\n",
       "    <tr>\n",
       "      <th>8</th>\n",
       "      <td>749</td>\n",
       "      <td>563.941732</td>\n",
       "      <td>636</td>\n",
       "    </tr>\n",
       "    <tr>\n",
       "      <th>9</th>\n",
       "      <td>1238</td>\n",
       "      <td>975.744329</td>\n",
       "      <td>1144</td>\n",
       "    </tr>\n",
       "  </tbody>\n",
       "</table>\n",
       "</div>"
      ],
      "text/plain": [
       "    erp   predicted   prp\n",
       "0   199  198.606137   198\n",
       "1   253  278.172817   269\n",
       "2   253  278.172817   220\n",
       "3   253  278.172817   172\n",
       "4   132  180.652326   132\n",
       "5   290  300.973465   318\n",
       "6   381  445.574396   367\n",
       "7   381  445.574396   489\n",
       "8   749  563.941732   636\n",
       "9  1238  975.744329  1144"
      ]
     },
     "execution_count": 29,
     "metadata": {},
     "output_type": "execute_result"
    }
   ],
   "source": [
    "# analysis of our predicted relative performance against our actual published relative performance\n",
    "# erp is the estimated relative performance by other authors\n",
    "pd.DataFrame({'predicted': pred, 'prp': df['prp'], 'erp': df['erp']})[:10]"
   ]
  },
  {
   "cell_type": "code",
   "execution_count": 30,
   "metadata": {},
   "outputs": [],
   "source": [
    "# dataset from: https://archive.ics.uci.edu/ml/datasets/Computer+Hardware"
   ]
  }
 ],
 "metadata": {
  "kernelspec": {
   "display_name": "Python 3",
   "language": "python",
   "name": "python3"
  },
  "language_info": {
   "codemirror_mode": {
    "name": "ipython",
    "version": 3
   },
   "file_extension": ".py",
   "mimetype": "text/x-python",
   "name": "python",
   "nbconvert_exporter": "python",
   "pygments_lexer": "ipython3",
   "version": "3.6.4"
  }
 },
 "nbformat": 4,
 "nbformat_minor": 2
}
