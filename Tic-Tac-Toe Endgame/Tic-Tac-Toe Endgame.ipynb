{
 "cells": [
  {
   "cell_type": "markdown",
   "metadata": {},
   "source": [
    "## Tic-Tac-Toe Endgame Data Set \n",
    "\n",
    "Binary classification task on possible configurations of tic-tac-toe game\n",
    "\n",
    "dataset from: https://archive.ics.uci.edu/ml/datasets/Tic-Tac-Toe+Endgame"
   ]
  },
  {
   "cell_type": "code",
   "execution_count": 1,
   "metadata": {},
   "outputs": [],
   "source": [
    "import numpy as np\n",
    "import pandas as pd\n",
    "import seaborn as sns\n",
    "%matplotlib inline\n",
    "#plt.style.use('seaborn')"
   ]
  },
  {
   "cell_type": "code",
   "execution_count": 2,
   "metadata": {},
   "outputs": [],
   "source": [
    "df = pd.read_csv('./tic-tac-toe.data', header=None)\n",
    "df.columns = ['top_left_sqr', 'top_middle_sqr', 'top_right_sqr',\n",
    "             'mid_left_sqr', 'mid_mid_sqr', 'mid_right_sqr', \n",
    "             'btm_left_sqr', 'btm_mid_sqr', 'btm_right_sqr',\n",
    "             'class']"
   ]
  },
  {
   "cell_type": "code",
   "execution_count": 3,
   "metadata": {},
   "outputs": [
    {
     "data": {
      "text/html": [
       "<div>\n",
       "<style scoped>\n",
       "    .dataframe tbody tr th:only-of-type {\n",
       "        vertical-align: middle;\n",
       "    }\n",
       "\n",
       "    .dataframe tbody tr th {\n",
       "        vertical-align: top;\n",
       "    }\n",
       "\n",
       "    .dataframe thead th {\n",
       "        text-align: right;\n",
       "    }\n",
       "</style>\n",
       "<table border=\"1\" class=\"dataframe\">\n",
       "  <thead>\n",
       "    <tr style=\"text-align: right;\">\n",
       "      <th></th>\n",
       "      <th>top_left_sqr</th>\n",
       "      <th>top_middle_sqr</th>\n",
       "      <th>top_right_sqr</th>\n",
       "      <th>mid_left_sqr</th>\n",
       "      <th>mid_mid_sqr</th>\n",
       "      <th>mid_right_sqr</th>\n",
       "      <th>btm_left_sqr</th>\n",
       "      <th>btm_mid_sqr</th>\n",
       "      <th>btm_right_sqr</th>\n",
       "      <th>class</th>\n",
       "    </tr>\n",
       "  </thead>\n",
       "  <tbody>\n",
       "    <tr>\n",
       "      <th>0</th>\n",
       "      <td>x</td>\n",
       "      <td>x</td>\n",
       "      <td>x</td>\n",
       "      <td>x</td>\n",
       "      <td>o</td>\n",
       "      <td>o</td>\n",
       "      <td>x</td>\n",
       "      <td>o</td>\n",
       "      <td>o</td>\n",
       "      <td>positive</td>\n",
       "    </tr>\n",
       "    <tr>\n",
       "      <th>1</th>\n",
       "      <td>x</td>\n",
       "      <td>x</td>\n",
       "      <td>x</td>\n",
       "      <td>x</td>\n",
       "      <td>o</td>\n",
       "      <td>o</td>\n",
       "      <td>o</td>\n",
       "      <td>x</td>\n",
       "      <td>o</td>\n",
       "      <td>positive</td>\n",
       "    </tr>\n",
       "    <tr>\n",
       "      <th>2</th>\n",
       "      <td>x</td>\n",
       "      <td>x</td>\n",
       "      <td>x</td>\n",
       "      <td>x</td>\n",
       "      <td>o</td>\n",
       "      <td>o</td>\n",
       "      <td>o</td>\n",
       "      <td>o</td>\n",
       "      <td>x</td>\n",
       "      <td>positive</td>\n",
       "    </tr>\n",
       "    <tr>\n",
       "      <th>3</th>\n",
       "      <td>x</td>\n",
       "      <td>x</td>\n",
       "      <td>x</td>\n",
       "      <td>x</td>\n",
       "      <td>o</td>\n",
       "      <td>o</td>\n",
       "      <td>o</td>\n",
       "      <td>b</td>\n",
       "      <td>b</td>\n",
       "      <td>positive</td>\n",
       "    </tr>\n",
       "    <tr>\n",
       "      <th>4</th>\n",
       "      <td>x</td>\n",
       "      <td>x</td>\n",
       "      <td>x</td>\n",
       "      <td>x</td>\n",
       "      <td>o</td>\n",
       "      <td>o</td>\n",
       "      <td>b</td>\n",
       "      <td>o</td>\n",
       "      <td>b</td>\n",
       "      <td>positive</td>\n",
       "    </tr>\n",
       "  </tbody>\n",
       "</table>\n",
       "</div>"
      ],
      "text/plain": [
       "  top_left_sqr top_middle_sqr top_right_sqr mid_left_sqr mid_mid_sqr  \\\n",
       "0            x              x             x            x           o   \n",
       "1            x              x             x            x           o   \n",
       "2            x              x             x            x           o   \n",
       "3            x              x             x            x           o   \n",
       "4            x              x             x            x           o   \n",
       "\n",
       "  mid_right_sqr btm_left_sqr btm_mid_sqr btm_right_sqr     class  \n",
       "0             o            x           o             o  positive  \n",
       "1             o            o           x             o  positive  \n",
       "2             o            o           o             x  positive  \n",
       "3             o            o           b             b  positive  \n",
       "4             o            b           o             b  positive  "
      ]
     },
     "execution_count": 3,
     "metadata": {},
     "output_type": "execute_result"
    }
   ],
   "source": [
    "df.head()"
   ]
  },
  {
   "cell_type": "code",
   "execution_count": 4,
   "metadata": {},
   "outputs": [
    {
     "data": {
      "text/plain": [
       "top_left_sqr      0\n",
       "top_middle_sqr    0\n",
       "top_right_sqr     0\n",
       "mid_left_sqr      0\n",
       "mid_mid_sqr       0\n",
       "mid_right_sqr     0\n",
       "btm_left_sqr      0\n",
       "btm_mid_sqr       0\n",
       "btm_right_sqr     0\n",
       "class             0\n",
       "dtype: int64"
      ]
     },
     "execution_count": 4,
     "metadata": {},
     "output_type": "execute_result"
    }
   ],
   "source": [
    "df.isnull().sum()"
   ]
  },
  {
   "cell_type": "code",
   "execution_count": 5,
   "metadata": {},
   "outputs": [],
   "source": [
    "dummy_X = pd.get_dummies(df.iloc[:, :-1], drop_first=True) # "
   ]
  },
  {
   "cell_type": "code",
   "execution_count": 6,
   "metadata": {},
   "outputs": [
    {
     "data": {
      "text/html": [
       "<div>\n",
       "<style scoped>\n",
       "    .dataframe tbody tr th:only-of-type {\n",
       "        vertical-align: middle;\n",
       "    }\n",
       "\n",
       "    .dataframe tbody tr th {\n",
       "        vertical-align: top;\n",
       "    }\n",
       "\n",
       "    .dataframe thead th {\n",
       "        text-align: right;\n",
       "    }\n",
       "</style>\n",
       "<table border=\"1\" class=\"dataframe\">\n",
       "  <thead>\n",
       "    <tr style=\"text-align: right;\">\n",
       "      <th></th>\n",
       "      <th>top_left_sqr_o</th>\n",
       "      <th>top_left_sqr_x</th>\n",
       "      <th>top_middle_sqr_o</th>\n",
       "      <th>top_middle_sqr_x</th>\n",
       "      <th>top_right_sqr_o</th>\n",
       "      <th>top_right_sqr_x</th>\n",
       "      <th>mid_left_sqr_o</th>\n",
       "      <th>mid_left_sqr_x</th>\n",
       "      <th>mid_mid_sqr_o</th>\n",
       "      <th>mid_mid_sqr_x</th>\n",
       "      <th>mid_right_sqr_o</th>\n",
       "      <th>mid_right_sqr_x</th>\n",
       "      <th>btm_left_sqr_o</th>\n",
       "      <th>btm_left_sqr_x</th>\n",
       "      <th>btm_mid_sqr_o</th>\n",
       "      <th>btm_mid_sqr_x</th>\n",
       "      <th>btm_right_sqr_o</th>\n",
       "      <th>btm_right_sqr_x</th>\n",
       "    </tr>\n",
       "  </thead>\n",
       "  <tbody>\n",
       "    <tr>\n",
       "      <th>0</th>\n",
       "      <td>0</td>\n",
       "      <td>1</td>\n",
       "      <td>0</td>\n",
       "      <td>1</td>\n",
       "      <td>0</td>\n",
       "      <td>1</td>\n",
       "      <td>0</td>\n",
       "      <td>1</td>\n",
       "      <td>1</td>\n",
       "      <td>0</td>\n",
       "      <td>1</td>\n",
       "      <td>0</td>\n",
       "      <td>0</td>\n",
       "      <td>1</td>\n",
       "      <td>1</td>\n",
       "      <td>0</td>\n",
       "      <td>1</td>\n",
       "      <td>0</td>\n",
       "    </tr>\n",
       "    <tr>\n",
       "      <th>1</th>\n",
       "      <td>0</td>\n",
       "      <td>1</td>\n",
       "      <td>0</td>\n",
       "      <td>1</td>\n",
       "      <td>0</td>\n",
       "      <td>1</td>\n",
       "      <td>0</td>\n",
       "      <td>1</td>\n",
       "      <td>1</td>\n",
       "      <td>0</td>\n",
       "      <td>1</td>\n",
       "      <td>0</td>\n",
       "      <td>1</td>\n",
       "      <td>0</td>\n",
       "      <td>0</td>\n",
       "      <td>1</td>\n",
       "      <td>1</td>\n",
       "      <td>0</td>\n",
       "    </tr>\n",
       "    <tr>\n",
       "      <th>2</th>\n",
       "      <td>0</td>\n",
       "      <td>1</td>\n",
       "      <td>0</td>\n",
       "      <td>1</td>\n",
       "      <td>0</td>\n",
       "      <td>1</td>\n",
       "      <td>0</td>\n",
       "      <td>1</td>\n",
       "      <td>1</td>\n",
       "      <td>0</td>\n",
       "      <td>1</td>\n",
       "      <td>0</td>\n",
       "      <td>1</td>\n",
       "      <td>0</td>\n",
       "      <td>1</td>\n",
       "      <td>0</td>\n",
       "      <td>0</td>\n",
       "      <td>1</td>\n",
       "    </tr>\n",
       "    <tr>\n",
       "      <th>3</th>\n",
       "      <td>0</td>\n",
       "      <td>1</td>\n",
       "      <td>0</td>\n",
       "      <td>1</td>\n",
       "      <td>0</td>\n",
       "      <td>1</td>\n",
       "      <td>0</td>\n",
       "      <td>1</td>\n",
       "      <td>1</td>\n",
       "      <td>0</td>\n",
       "      <td>1</td>\n",
       "      <td>0</td>\n",
       "      <td>1</td>\n",
       "      <td>0</td>\n",
       "      <td>0</td>\n",
       "      <td>0</td>\n",
       "      <td>0</td>\n",
       "      <td>0</td>\n",
       "    </tr>\n",
       "    <tr>\n",
       "      <th>4</th>\n",
       "      <td>0</td>\n",
       "      <td>1</td>\n",
       "      <td>0</td>\n",
       "      <td>1</td>\n",
       "      <td>0</td>\n",
       "      <td>1</td>\n",
       "      <td>0</td>\n",
       "      <td>1</td>\n",
       "      <td>1</td>\n",
       "      <td>0</td>\n",
       "      <td>1</td>\n",
       "      <td>0</td>\n",
       "      <td>0</td>\n",
       "      <td>0</td>\n",
       "      <td>1</td>\n",
       "      <td>0</td>\n",
       "      <td>0</td>\n",
       "      <td>0</td>\n",
       "    </tr>\n",
       "  </tbody>\n",
       "</table>\n",
       "</div>"
      ],
      "text/plain": [
       "   top_left_sqr_o  top_left_sqr_x  top_middle_sqr_o  top_middle_sqr_x  \\\n",
       "0               0               1                 0                 1   \n",
       "1               0               1                 0                 1   \n",
       "2               0               1                 0                 1   \n",
       "3               0               1                 0                 1   \n",
       "4               0               1                 0                 1   \n",
       "\n",
       "   top_right_sqr_o  top_right_sqr_x  mid_left_sqr_o  mid_left_sqr_x  \\\n",
       "0                0                1               0               1   \n",
       "1                0                1               0               1   \n",
       "2                0                1               0               1   \n",
       "3                0                1               0               1   \n",
       "4                0                1               0               1   \n",
       "\n",
       "   mid_mid_sqr_o  mid_mid_sqr_x  mid_right_sqr_o  mid_right_sqr_x  \\\n",
       "0              1              0                1                0   \n",
       "1              1              0                1                0   \n",
       "2              1              0                1                0   \n",
       "3              1              0                1                0   \n",
       "4              1              0                1                0   \n",
       "\n",
       "   btm_left_sqr_o  btm_left_sqr_x  btm_mid_sqr_o  btm_mid_sqr_x  \\\n",
       "0               0               1              1              0   \n",
       "1               1               0              0              1   \n",
       "2               1               0              1              0   \n",
       "3               1               0              0              0   \n",
       "4               0               0              1              0   \n",
       "\n",
       "   btm_right_sqr_o  btm_right_sqr_x  \n",
       "0                1                0  \n",
       "1                1                0  \n",
       "2                0                1  \n",
       "3                0                0  \n",
       "4                0                0  "
      ]
     },
     "execution_count": 6,
     "metadata": {},
     "output_type": "execute_result"
    }
   ],
   "source": [
    "dummy_X.head()"
   ]
  },
  {
   "cell_type": "code",
   "execution_count": 7,
   "metadata": {},
   "outputs": [
    {
     "name": "stdout",
     "output_type": "stream",
     "text": [
      "uint8\n",
      "uint8\n",
      "uint8\n",
      "uint8\n",
      "uint8\n",
      "uint8\n",
      "uint8\n",
      "uint8\n",
      "uint8\n",
      "uint8\n",
      "uint8\n",
      "uint8\n",
      "uint8\n",
      "uint8\n",
      "uint8\n",
      "uint8\n",
      "uint8\n",
      "uint8\n"
     ]
    }
   ],
   "source": [
    "for i in range(dummy_X.shape[1]):\n",
    "    print(dummy_X.iloc[:, i].dtype)"
   ]
  },
  {
   "cell_type": "code",
   "execution_count": 8,
   "metadata": {},
   "outputs": [],
   "source": [
    "df.loc[df['class'] == 'positive', 'class'] = 1\n",
    "df.loc[df['class'] == 'negative', 'class'] = 0"
   ]
  },
  {
   "cell_type": "code",
   "execution_count": 9,
   "metadata": {},
   "outputs": [
    {
     "data": {
      "text/plain": [
       "array([1, 0], dtype=object)"
      ]
     },
     "execution_count": 9,
     "metadata": {},
     "output_type": "execute_result"
    }
   ],
   "source": [
    "df['class'].unique()"
   ]
  },
  {
   "cell_type": "code",
   "execution_count": 10,
   "metadata": {},
   "outputs": [],
   "source": [
    "from sklearn.linear_model import LogisticRegression\n",
    "from sklearn.model_selection import train_test_split\n",
    "from sklearn.tree import DecisionTreeClassifier\n",
    "from sklearn.metrics import accuracy_score"
   ]
  },
  {
   "cell_type": "code",
   "execution_count": 11,
   "metadata": {},
   "outputs": [],
   "source": [
    "X = dummy_X\n",
    "y = df['class'].astype('int')"
   ]
  },
  {
   "cell_type": "code",
   "execution_count": 12,
   "metadata": {},
   "outputs": [],
   "source": [
    "X_train, X_test, y_train, y_test = train_test_split(X, y, test_size=0.3, random_state=42)"
   ]
  },
  {
   "cell_type": "markdown",
   "metadata": {},
   "source": [
    "### Logistic Regression"
   ]
  },
  {
   "cell_type": "code",
   "execution_count": 13,
   "metadata": {},
   "outputs": [
    {
     "data": {
      "text/plain": [
       "LogisticRegression(C=1.0, class_weight=None, dual=False, fit_intercept=True,\n",
       "          intercept_scaling=1, max_iter=100, multi_class='ovr', n_jobs=1,\n",
       "          penalty='l2', random_state=None, solver='liblinear', tol=0.0001,\n",
       "          verbose=0, warm_start=False)"
      ]
     },
     "execution_count": 13,
     "metadata": {},
     "output_type": "execute_result"
    }
   ],
   "source": [
    "lr = LogisticRegression()\n",
    "lr.fit(X_train, y_train)"
   ]
  },
  {
   "cell_type": "code",
   "execution_count": 14,
   "metadata": {},
   "outputs": [
    {
     "name": "stdout",
     "output_type": "stream",
     "text": [
      "\n",
      "Logistic Regression - Train accuracy (Eye Detection) 0.98507\n",
      "\n",
      "Logistic Regression - Test accuracy (Eye Detection) 0.97917\n"
     ]
    }
   ],
   "source": [
    "pred = lr.predict(X_train)\n",
    "print(\"\\nLogistic Regression - Train accuracy (Eye Detection)\", round(accuracy_score(y_train, pred), 5))\n",
    "\n",
    "pred = lr.predict(X_test)\n",
    "print(\"\\nLogistic Regression - Test accuracy (Eye Detection)\", round(accuracy_score(y_test, pred), 5))"
   ]
  },
  {
   "cell_type": "markdown",
   "metadata": {},
   "source": [
    "### Decision Tree"
   ]
  },
  {
   "cell_type": "code",
   "execution_count": 15,
   "metadata": {},
   "outputs": [
    {
     "name": "stdout",
     "output_type": "stream",
     "text": [
      "Decison Tree - Test accuracy:  0.9513888888888888\n"
     ]
    }
   ],
   "source": [
    "model_dtc = DecisionTreeClassifier(random_state=42)\n",
    "model_dtc.fit(X_train, y_train)\n",
    "prediction_dtc = model_dtc.predict(X_test)\n",
    "print('Decison Tree - Test accuracy: ', accuracy_score(prediction_dtc, y_test))"
   ]
  },
  {
   "cell_type": "markdown",
   "metadata": {},
   "source": [
    "When drop_first = True, we got the following accuracy\n",
    "\n",
    "Logistic Regression - Train accuracy (Eye Detection) 0.98507\n",
    "Logistic Regression - Test accuracy (Eye Detection) 0.97917\n",
    "\n",
    "Decison Tree - Test accuracy:  0.9513888888888888\n",
    "\n",
    "\n",
    "When drop_first = False\n",
    "\n",
    "Logistic Regression - Train accuracy (Eye Detection) 0.98507\n",
    "Logistic Regression - Test accuracy (Eye Detection) 0.97569\n",
    "\n",
    "Decison Tree - Test accuracy:  0.9340277777777778\n",
    "\n",
    "It's look like dropping first column from one-hot-encoding yields marginally better accuracy."
   ]
  }
 ],
 "metadata": {
  "kernelspec": {
   "display_name": "Python 3",
   "language": "python",
   "name": "python3"
  },
  "language_info": {
   "codemirror_mode": {
    "name": "ipython",
    "version": 3
   },
   "file_extension": ".py",
   "mimetype": "text/x-python",
   "name": "python",
   "nbconvert_exporter": "python",
   "pygments_lexer": "ipython3",
   "version": "3.6.4"
  }
 },
 "nbformat": 4,
 "nbformat_minor": 2
}
